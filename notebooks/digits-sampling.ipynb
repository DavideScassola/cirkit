{
 "cells": [
  {
   "cell_type": "markdown",
   "id": "e1e6d6b9",
   "metadata": {},
   "source": [
    "# Train and evaluate a PC"
   ]
  },
  {
   "cell_type": "code",
   "execution_count": 1,
   "id": "d6debe19",
   "metadata": {
    "ExecuteTime": {
     "end_time": "2024-09-02T14:54:43.286977Z",
     "start_time": "2024-09-02T14:54:43.284663Z"
    }
   },
   "outputs": [
    {
     "name": "stdout",
     "output_type": "stream",
     "text": [
      "[Errno 2] No such file or directory: '/cw/dtaijupiter/NoCsBack/dtai/lennert/cirkit/'\n",
      "/afs/inf.ed.ac.uk/group/project/s2457990/Forks/cirkit/notebooks\n"
     ]
    },
    {
     "name": "stderr",
     "output_type": "stream",
     "text": [
      "/disk/scratch_fast0/s2457990/pytorch2-venv/lib/python3.10/site-packages/IPython/core/magics/osm.py:393: UserWarning: This is now an optional IPython functionality, using bookmarks requires you to install the `pickleshare` library.\n",
      "  bkms = self.shell.db.get('bookmarks', {})\n"
     ]
    }
   ],
   "source": [
    "import random\n",
    "import numpy as np\n",
    "import matplotlib.pyplot as plt\n",
    "\n",
    "%cd /cw/dtaijupiter/NoCsBack/dtai/lennert/cirkit/"
   ]
  },
  {
   "cell_type": "markdown",
   "id": "c4608165",
   "metadata": {},
   "source": [
    "Set the random seeds."
   ]
  },
  {
   "cell_type": "code",
   "execution_count": 2,
   "id": "d66933b2",
   "metadata": {
    "ExecuteTime": {
     "end_time": "2024-09-02T14:54:43.301881Z",
     "start_time": "2024-09-02T14:54:43.299413Z"
    }
   },
   "outputs": [],
   "source": [
    "random.seed(42)\n",
    "np.random.seed(42)"
   ]
  },
  {
   "cell_type": "markdown",
   "id": "45c005fb",
   "metadata": {},
   "source": [
    "## Load MNIST Dataset"
   ]
  },
  {
   "cell_type": "markdown",
   "id": "4a02baea",
   "metadata": {},
   "source": [
    "Load the training and test splits of MNIST, and preprocess them by flattening the tensor images."
   ]
  },
  {
   "cell_type": "code",
   "execution_count": 3,
   "id": "f3a04559",
   "metadata": {
    "ExecuteTime": {
     "end_time": "2024-09-02T14:54:45.411991Z",
     "start_time": "2024-09-02T14:54:43.825436Z"
    }
   },
   "outputs": [
    {
     "name": "stdout",
     "output_type": "stream",
     "text": [
      "Number of variables: 784\n"
     ]
    }
   ],
   "source": [
    "from torchvision import transforms, datasets\n",
    "\n",
    "transform = transforms.Compose([\n",
    "    transforms.ToTensor(),\n",
    "    transforms.Lambda(lambda x: (255 * x.view(-1)).long())\n",
    "])\n",
    "data_train = datasets.MNIST('datasets', train=True, download=True, transform=transform)\n",
    "data_test = datasets.MNIST('datasets', train=False, download=True, transform=transform)\n",
    "num_variables = data_train[0][0].shape[0]\n",
    "height, width = 28, 28\n",
    "print(f\"Number of variables: {num_variables}\")"
   ]
  },
  {
   "cell_type": "code",
   "execution_count": 4,
   "id": "6ad24d46",
   "metadata": {
    "ExecuteTime": {
     "end_time": "2024-09-02T14:55:09.740362Z",
     "start_time": "2024-09-02T14:55:09.614629Z"
    }
   },
   "outputs": [
    {
     "data": {
      "image/png": "[encoded data removed]",
      "text/plain": [
       "<Figure size 480x480 with 1 Axes>"
      ]
     },
     "metadata": {},
     "output_type": "display_data"
    }
   ],
   "source": [
    "plt.matshow(data_train[0][0].reshape(28, 28), cmap='gray')\n",
    "plt.title(f\"Class: {data_train[0][1]}\")\n",
    "plt.show()"
   ]
  },
  {
   "cell_type": "markdown",
   "id": "965d0122",
   "metadata": {},
   "source": [
    "## Instantiating a Circuit structure Template: the Region Graph"
   ]
  },
  {
   "cell_type": "markdown",
   "id": "4d471b6e",
   "metadata": {},
   "source": [
    "Initialize a _Quad Graph_ region graph."
   ]
  },
  {
   "cell_type": "code",
   "execution_count": 5,
   "id": "51a7b261",
   "metadata": {
    "ExecuteTime": {
     "end_time": "2024-09-02T14:55:13.439482Z",
     "start_time": "2024-09-02T14:55:13.260204Z"
    }
   },
   "outputs": [],
   "source": [
    "from cirkit.templates.region_graph import QuadGraph\n",
    "\n",
    "region_graph = QuadGraph(shape=(height, height))"
   ]
  },
  {
   "cell_type": "markdown",
   "id": "0dc35ef6",
   "metadata": {},
   "source": [
    "Others available region graphs are the _Random Binary Tree_ and the _Poon Domingos_, whose imports are showed below."
   ]
  },
  {
   "cell_type": "code",
   "execution_count": 6,
   "id": "ec3a1ea4",
   "metadata": {
    "ExecuteTime": {
     "end_time": "2024-09-02T14:55:14.169455Z",
     "start_time": "2024-09-02T14:55:14.165931Z"
    }
   },
   "outputs": [],
   "source": [
    "from cirkit.templates.region_graph import RandomBinaryTree, PoonDomingos"
   ]
  },
  {
   "cell_type": "markdown",
   "id": "66900897-5d65-4136-8399-f997c3665a38",
   "metadata": {},
   "source": [
    "## Constructing the Symbolic Circuit Representation"
   ]
  },
  {
   "cell_type": "markdown",
   "id": "7d6468f6-a1e5-46f8-92d4-d1eb6fa5ba19",
   "metadata": {},
   "source": [
    "From the region graph definition above, we now construct the symbolic circuit representation. Note that this circuit representation is _not_ executable, i.e., you cannot do learn it or do inference with it. It will be compiled later, by choosing a backend such as torch.\n",
    "\n",
    "To do so, we first define the factories that will be used to construct symbolic layers. Note that we choose the parameterization at the symbolic level. That is, we guarantee non-negative parameters by passing them through an exponential function. Moreover, we can choose how to parameterize the categorical distributions used to model the distribution of pixel values in the 0-255 range. In this case, we use a log softmax function. We choose to initialize the weights of the circuit by sampling from a normal distribution."
   ]
  },
  {
   "cell_type": "code",
   "execution_count": 7,
   "id": "ac0a1895-999f-47af-8c6f-57242726540a",
   "metadata": {
    "ExecuteTime": {
     "end_time": "2024-09-02T14:55:16.605384Z",
     "start_time": "2024-09-02T14:55:16.599784Z"
    }
   },
   "outputs": [],
   "source": [
    "from cirkit.utils.scope import Scope\n",
    "from cirkit.symbolic.parameters import LogSoftmaxParameter, SoftmaxParameter, ExpParameter, Parameter, TensorParameter\n",
    "from cirkit.symbolic.layers import BinomialLayer, DenseLayer, HadamardLayer, MixingLayer\n",
    "from cirkit.symbolic.initializers import NormalInitializer"
   ]
  },
  {
   "cell_type": "code",
   "execution_count": 8,
   "id": "c96b9dfc-83a6-43ba-b20d-48d6dd79e663",
   "metadata": {
    "ExecuteTime": {
     "end_time": "2024-09-02T14:55:16.909641Z",
     "start_time": "2024-09-02T14:55:16.905296Z"
    }
   },
   "outputs": [],
   "source": [
    "def binomial_layer_factory(\n",
    "    scope: Scope,\n",
    "    num_units: int,\n",
    "    num_channels: int\n",
    ") -> BinomialLayer:\n",
    "    return BinomialLayer(\n",
    "        scope, num_units, num_channels, total_count=256,\n",
    "        logits_factory=lambda shape: Parameter.from_leaf(\n",
    "            TensorParameter(*shape, initializer=NormalInitializer(0.0, 2.56))\n",
    "        )\n",
    "    )\n",
    "\n",
    "def hadamard_layer_factory(\n",
    "    scope: Scope, num_input_units: int, arity: int\n",
    ") -> HadamardLayer:\n",
    "    return HadamardLayer(scope, num_input_units, arity)\n",
    "\n",
    "def dense_layer_factory(\n",
    "    scope: Scope,\n",
    "    num_input_units: int,\n",
    "    num_output_units: int\n",
    ") -> DenseLayer:\n",
    "    return DenseLayer(\n",
    "        scope, num_input_units, num_output_units,\n",
    "        weight_factory=lambda shape: Parameter.from_unary(\n",
    "            SoftmaxParameter(shape),\n",
    "            TensorParameter(*shape, initializer=NormalInitializer(0.0, 1e-1))\n",
    "        )\n",
    "    )\n",
    "\n",
    "\n",
    "def mixing_layer_factory(\n",
    "    scope: Scope, num_units: int, arity: int\n",
    ") -> MixingLayer:\n",
    "    return MixingLayer(\n",
    "        scope, num_units, arity,\n",
    "        weight_factory=lambda shape: Parameter.from_unary(\n",
    "            SoftmaxParameter(shape),\n",
    "            TensorParameter(*shape, initializer=NormalInitializer(0.0, 1e-1))\n",
    "        )\n",
    "    )"
   ]
  },
  {
   "cell_type": "markdown",
   "id": "9707de19-d6c7-4646-8266-2e20dcefa22e",
   "metadata": {},
   "source": [
    "Then, we call a function to construct the symbolic circuit from region graph, by specifying the number of units and the factories to build layers."
   ]
  },
  {
   "cell_type": "code",
   "execution_count": 9,
   "id": "97be2b8f-0012-46ed-9f03-26a7a4729b61",
   "metadata": {
    "ExecuteTime": {
     "end_time": "2024-09-02T14:55:19.199365Z",
     "start_time": "2024-09-02T14:55:19.181628Z"
    }
   },
   "outputs": [],
   "source": [
    "from cirkit.symbolic.circuit import Circuit"
   ]
  },
  {
   "cell_type": "code",
   "execution_count": 10,
   "id": "52c88f38-1552-4d13-b62d-931493c07c69",
   "metadata": {
    "ExecuteTime": {
     "end_time": "2024-09-02T14:55:23.997729Z",
     "start_time": "2024-09-02T14:55:23.946335Z"
    }
   },
   "outputs": [],
   "source": [
    "symbolic_circuit = Circuit.from_region_graph(\n",
    "    region_graph,\n",
    "    num_input_units=24,\n",
    "    num_sum_units=24,\n",
    "    input_factory=binomial_layer_factory,\n",
    "    # input_factory=categorical_layer_factory,\n",
    "    sum_factory=dense_layer_factory,\n",
    "    prod_factory=hadamard_layer_factory,\n",
    "    mixing_factory=mixing_layer_factory\n",
    ")"
   ]
  },
  {
   "cell_type": "markdown",
   "id": "aa8c6e7c-ad9f-4dd2-ab76-602e191d197b",
   "metadata": {},
   "source": [
    "We can retrieve some information about the circuit and its structural properties as follows."
   ]
  },
  {
   "cell_type": "code",
   "execution_count": 11,
   "id": "23570bfd-a64e-4e19-ba4c-30e489e9d08d",
   "metadata": {
    "ExecuteTime": {
     "end_time": "2024-09-02T14:55:27.359655Z",
     "start_time": "2024-09-02T14:55:27.346506Z"
    }
   },
   "outputs": [
    {
     "name": "stdout",
     "output_type": "stream",
     "text": [
      "Smooth: True\n",
      "Decomposable: True\n",
      "Number of variables: 784\n",
      "Number of channels per variable: 1\n"
     ]
    }
   ],
   "source": [
    "print(f'Smooth: {symbolic_circuit.is_smooth}')\n",
    "print(f'Decomposable: {symbolic_circuit.is_decomposable}')\n",
    "print(f'Number of variables: {symbolic_circuit.num_variables}')\n",
    "print(f'Number of channels per variable: {symbolic_circuit.num_channels}')"
   ]
  },
  {
   "cell_type": "markdown",
   "id": "67398c38",
   "metadata": {},
   "source": [
    "## Compiling the Symbolic Circuit"
   ]
  },
  {
   "cell_type": "markdown",
   "id": "bba547d8",
   "metadata": {},
   "source": [
    "We are ready to compile the symbolic circuit constructed above into another one that we can learn and/or do inference. To do so, we have to choose a compilation backend. In this case, we choose torch as a backend."
   ]
  },
  {
   "cell_type": "code",
   "execution_count": 12,
   "id": "a9ea4a4a-649d-462f-bcfd-20a12bd8a052",
   "metadata": {
    "ExecuteTime": {
     "end_time": "2024-09-02T14:55:31.387778Z",
     "start_time": "2024-09-02T14:55:31.384284Z"
    }
   },
   "outputs": [],
   "source": [
    "import torch\n",
    "device = torch.device('cuda')  # The device to use\n",
    "torch.manual_seed(42)\n",
    "if 'cuda' in device.type:\n",
    "    torch.cuda.manual_seed(42)"
   ]
  },
  {
   "cell_type": "markdown",
   "id": "b7f7a3f9-1c64-4117-81f0-8766ccbd3179",
   "metadata": {},
   "source": [
    "We first need to instantiate a circuit pipeline context and specify the backend to be used, as well as optional compilation flags, e.g., whether to fold the circuit or which inference semiring to use. Finally, we use the pipeline context to compile the symbolic circuit."
   ]
  },
  {
   "cell_type": "code",
   "execution_count": 13,
   "id": "c0a1892e-4a65-4759-bb3a-ccbe6f5e515c",
   "metadata": {
    "ExecuteTime": {
     "end_time": "2024-09-02T14:55:34.459551Z",
     "start_time": "2024-09-02T14:55:33.513258Z"
    }
   },
   "outputs": [],
   "source": [
    "from cirkit.pipeline import compile\n",
    "circuit = compile(symbolic_circuit)"
   ]
  },
  {
   "cell_type": "markdown",
   "id": "bdd14baf-a29e-4773-84a7-417d8747f678",
   "metadata": {},
   "source": [
    "Note that the compilation step, comprising the folding optimization, required less than 1 second for a circuit with almost 5000 layers."
   ]
  },
  {
   "cell_type": "code",
   "execution_count": 14,
   "id": "36f0d55e-05c3-42ac-a63c-326f8446f90d",
   "metadata": {
    "ExecuteTime": {
     "end_time": "2024-09-02T14:55:36.560151Z",
     "start_time": "2024-09-02T14:55:36.557402Z"
    }
   },
   "outputs": [
    {
     "name": "stdout",
     "output_type": "stream",
     "text": [
      "4947\n"
     ]
    }
   ],
   "source": [
    "print(len(list(symbolic_circuit.layers)))"
   ]
  },
  {
   "cell_type": "markdown",
   "id": "f1ce78e8-79fc-4630-8cea-ce6e0df4429b",
   "metadata": {},
   "source": [
    "We observe how the tensorized circuit has much fewer layers, as the great majority has been folded."
   ]
  },
  {
   "cell_type": "code",
   "execution_count": 15,
   "id": "cc7965af-05d3-472f-84cb-7c3d80da52fc",
   "metadata": {
    "ExecuteTime": {
     "end_time": "2024-09-02T14:55:37.272477Z",
     "start_time": "2024-09-02T14:55:37.269441Z"
    }
   },
   "outputs": [
    {
     "name": "stdout",
     "output_type": "stream",
     "text": [
      "TorchCircuit(\n",
      "  (0): TorchBinomialLayer(\n",
      "    folds: 784  channels: 1  variables: 1  output-units: 24\n",
      "    input-shape: (784, 1, -1, 1)\n",
      "    output-shape: (784, -1, 24)\n",
      "    (logits): TorchParameter(\n",
      "      shape: (784, 24, 1)\n",
      "      (0): TorchTensorParameter(output-shape: (784, 24, 1))\n",
      "    )\n",
      "  )\n",
      "  (1): TorchDenseLayer(\n",
      "    folds: 784  arity: 1  input-units: 24  output-units: 24\n",
      "    input-shape: (784, 1, -1, 24)\n",
      "    output-shape: (784, -1, 24)\n",
      "    (weight): TorchParameter(\n",
      "      shape: (784, 24, 24)\n",
      "      (0): TorchTensorParameter(output-shape: (784, 24, 24))\n",
      "      (1): TorchSoftmaxParameter(\n",
      "        input-shapes: [(784, 24, 24)]\n",
      "        output-shape: (784, 24, 24)\n",
      "      )\n",
      "    )\n",
      "  )\n",
      "  (2): TorchCPTLayer(\n",
      "    folds: 784  arity: 2  input-units: 24  output-units: 24\n",
      "    input-shape: (784, 2, -1, 24)\n",
      "    output-shape: (784, -1, 24)\n",
      "    (weight): TorchParameter(\n",
      "      shape: (784, 24, 24)\n",
      "      (0): TorchTensorParameter(output-shape: (784, 24, 24))\n",
      "      (1): TorchSoftmaxParameter(\n",
      "        input-shapes: [(784, 24, 24)]\n",
      "        output-shape: (784, 24, 24)\n",
      "      )\n",
      "    )\n",
      "  )\n",
      "  (3): TorchCPTLayer(\n",
      "    folds: 392  arity: 2  input-units: 24  output-units: 24\n",
      "    input-shape: (392, 2, -1, 24)\n",
      "    output-shape: (392, -1, 24)\n",
      "    (weight): TorchParameter(\n",
      "      shape: (392, 24, 24)\n",
      "      (0): TorchTensorParameter(output-shape: (392, 24, 24))\n",
      "      (1): TorchSoftmaxParameter(\n",
      "        input-shapes: [(392, 24, 24)]\n",
      "        output-shape: (392, 24, 24)\n",
      "      )\n",
      "    )\n",
      "  )\n",
      "  (4): TorchMixingLayer(\n",
      "    folds: 196  arity: 2  input-units: 24  output-units: 24\n",
      "    input-shape: (196, 2, -1, 24)\n",
      "    output-shape: (196, -1, 24)\n",
      "    (weight): TorchParameter(\n",
      "      shape: (196, 24, 2)\n",
      "      (0): TorchTensorParameter(output-shape: (196, 24, 2))\n",
      "      (1): TorchSoftmaxParameter(\n",
      "        input-shapes: [(196, 24, 2)]\n",
      "        output-shape: (196, 24, 2)\n",
      "      )\n",
      "    )\n",
      "  )\n",
      "  (5): TorchCPTLayer(\n",
      "    folds: 196  arity: 2  input-units: 24  output-units: 24\n",
      "    input-shape: (196, 2, -1, 24)\n",
      "    output-shape: (196, -1, 24)\n",
      "    (weight): TorchParameter(\n",
      "      shape: (196, 24, 24)\n",
      "      (0): TorchTensorParameter(output-shape: (196, 24, 24))\n",
      "      (1): TorchSoftmaxParameter(\n",
      "        input-shapes: [(196, 24, 24)]\n",
      "        output-shape: (196, 24, 24)\n",
      "      )\n",
      "    )\n",
      "  )\n",
      "  (6): TorchCPTLayer(\n",
      "    folds: 98  arity: 2  input-units: 24  output-units: 24\n",
      "    input-shape: (98, 2, -1, 24)\n",
      "    output-shape: (98, -1, 24)\n",
      "    (weight): TorchParameter(\n",
      "      shape: (98, 24, 24)\n",
      "      (0): TorchTensorParameter(output-shape: (98, 24, 24))\n",
      "      (1): TorchSoftmaxParameter(\n",
      "        input-shapes: [(98, 24, 24)]\n",
      "        output-shape: (98, 24, 24)\n",
      "      )\n",
      "    )\n",
      "  )\n",
      "  (7): TorchMixingLayer(\n",
      "    folds: 49  arity: 2  input-units: 24  output-units: 24\n",
      "    input-shape: (49, 2, -1, 24)\n",
      "    output-shape: (49, -1, 24)\n",
      "    (weight): TorchParameter(\n",
      "      shape: (49, 24, 2)\n",
      "      (0): TorchTensorParameter(output-shape: (49, 24, 2))\n",
      "      (1): TorchSoftmaxParameter(\n",
      "        input-shapes: [(49, 24, 2)]\n",
      "        output-shape: (49, 24, 2)\n",
      "      )\n",
      "    )\n",
      "  )\n",
      "  (8): TorchCPTLayer(\n",
      "    folds: 42  arity: 2  input-units: 24  output-units: 24\n",
      "    input-shape: (42, 2, -1, 24)\n",
      "    output-shape: (42, -1, 24)\n",
      "    (weight): TorchParameter(\n",
      "      shape: (42, 24, 24)\n",
      "      (0): TorchTensorParameter(output-shape: (42, 24, 24))\n",
      "      (1): TorchSoftmaxParameter(\n",
      "        input-shapes: [(42, 24, 24)]\n",
      "        output-shape: (42, 24, 24)\n",
      "      )\n",
      "    )\n",
      "  )\n",
      "  (9): TorchCPTLayer(\n",
      "    folds: 22  arity: 2  input-units: 24  output-units: 24\n",
      "    input-shape: (22, 2, -1, 24)\n",
      "    output-shape: (22, -1, 24)\n",
      "    (weight): TorchParameter(\n",
      "      shape: (22, 24, 24)\n",
      "      (0): TorchTensorParameter(output-shape: (22, 24, 24))\n",
      "      (1): TorchSoftmaxParameter(\n",
      "        input-shapes: [(22, 24, 24)]\n",
      "        output-shape: (22, 24, 24)\n",
      "      )\n",
      "    )\n",
      "  )\n",
      "  (10): TorchMixingLayer(\n",
      "    folds: 9  arity: 2  input-units: 24  output-units: 24\n",
      "    input-shape: (9, 2, -1, 24)\n",
      "    output-shape: (9, -1, 24)\n",
      "    (weight): TorchParameter(\n",
      "      shape: (9, 24, 2)\n",
      "      (0): TorchTensorParameter(output-shape: (9, 24, 2))\n",
      "      (1): TorchSoftmaxParameter(\n",
      "        input-shapes: [(9, 24, 2)]\n",
      "        output-shape: (9, 24, 2)\n",
      "      )\n",
      "    )\n",
      "  )\n",
      "  (11): TorchCPTLayer(\n",
      "    folds: 12  arity: 2  input-units: 24  output-units: 24\n",
      "    input-shape: (12, 2, -1, 24)\n",
      "    output-shape: (12, -1, 24)\n",
      "    (weight): TorchParameter(\n",
      "      shape: (12, 24, 24)\n",
      "      (0): TorchTensorParameter(output-shape: (12, 24, 24))\n",
      "      (1): TorchSoftmaxParameter(\n",
      "        input-shapes: [(12, 24, 24)]\n",
      "        output-shape: (12, 24, 24)\n",
      "      )\n",
      "    )\n",
      "  )\n",
      "  (12): TorchCPTLayer(\n",
      "    folds: 8  arity: 2  input-units: 24  output-units: 24\n",
      "    input-shape: (8, 2, -1, 24)\n",
      "    output-shape: (8, -1, 24)\n",
      "    (weight): TorchParameter(\n",
      "      shape: (8, 24, 24)\n",
      "      (0): TorchTensorParameter(output-shape: (8, 24, 24))\n",
      "      (1): TorchSoftmaxParameter(\n",
      "        input-shapes: [(8, 24, 24)]\n",
      "        output-shape: (8, 24, 24)\n",
      "      )\n",
      "    )\n",
      "  )\n",
      "  (13): TorchMixingLayer(\n",
      "    folds: 4  arity: 2  input-units: 24  output-units: 24\n",
      "    input-shape: (4, 2, -1, 24)\n",
      "    output-shape: (4, -1, 24)\n",
      "    (weight): TorchParameter(\n",
      "      shape: (4, 24, 2)\n",
      "      (0): TorchTensorParameter(output-shape: (4, 24, 2))\n",
      "      (1): TorchSoftmaxParameter(\n",
      "        input-shapes: [(4, 24, 2)]\n",
      "        output-shape: (4, 24, 2)\n",
      "      )\n",
      "    )\n",
      "  )\n",
      "  (14): TorchCPTLayer(\n",
      "    folds: 4  arity: 2  input-units: 24  output-units: 24\n",
      "    input-shape: (4, 2, -1, 24)\n",
      "    output-shape: (4, -1, 24)\n",
      "    (weight): TorchParameter(\n",
      "      shape: (4, 24, 24)\n",
      "      (0): TorchTensorParameter(output-shape: (4, 24, 24))\n",
      "      (1): TorchSoftmaxParameter(\n",
      "        input-shapes: [(4, 24, 24)]\n",
      "        output-shape: (4, 24, 24)\n",
      "      )\n",
      "    )\n",
      "  )\n",
      "  (15): TorchCPTLayer(\n",
      "    folds: 2  arity: 2  input-units: 24  output-units: 1\n",
      "    input-shape: (2, 2, -1, 24)\n",
      "    output-shape: (2, -1, 1)\n",
      "    (weight): TorchParameter(\n",
      "      shape: (2, 1, 24)\n",
      "      (0): TorchTensorParameter(output-shape: (2, 1, 24))\n",
      "      (1): TorchSoftmaxParameter(\n",
      "        input-shapes: [(2, 1, 24)]\n",
      "        output-shape: (2, 1, 24)\n",
      "      )\n",
      "    )\n",
      "  )\n",
      "  (16): TorchMixingLayer(\n",
      "    folds: 1  arity: 2  input-units: 1  output-units: 1\n",
      "    input-shape: (1, 2, -1, 1)\n",
      "    output-shape: (1, -1, 1)\n",
      "    (weight): TorchParameter(\n",
      "      shape: (1, 1, 2)\n",
      "      (0): TorchTensorParameter(output-shape: (1, 1, 2))\n",
      "      (1): TorchSoftmaxParameter(\n",
      "        input-shapes: [(1, 1, 2)]\n",
      "        output-shape: (1, 1, 2)\n",
      "      )\n",
      "    )\n",
      "  )\n",
      ")\n"
     ]
    }
   ],
   "source": [
    "print(circuit)"
   ]
  },
  {
   "cell_type": "markdown",
   "id": "beee1f04",
   "metadata": {},
   "source": [
    "## Training and Testing"
   ]
  },
  {
   "cell_type": "markdown",
   "id": "64bf4858",
   "metadata": {},
   "source": [
    "We are now ready to learn the parameters and do inference First, we wrap our data into PyTorch data loaders by specifying the batch size. Then, we initialize any PyTorch optimizer, e.g. SGD with momentum in this case."
   ]
  },
  {
   "cell_type": "code",
   "execution_count": 16,
   "id": "02854883",
   "metadata": {
    "ExecuteTime": {
     "end_time": "2024-09-02T14:55:40.563996Z",
     "start_time": "2024-09-02T14:55:40.560382Z"
    }
   },
   "outputs": [],
   "source": [
    "from torch import optim\n",
    "from torch.utils.data import DataLoader\n",
    "train_dataloader = DataLoader(data_train, shuffle=True, batch_size=256, drop_last=True, num_workers=4)\n",
    "test_dataloader = DataLoader(data_test, shuffle=False, batch_size=256, num_workers=4)\n",
    "optimizer = optim.Adam(circuit.parameters(), lr=0.03)"
   ]
  },
  {
   "cell_type": "markdown",
   "id": "ab362742-03af-4839-a302-44c8492a370e",
   "metadata": {},
   "source": [
    "### Compiling the Circuit computing the Partition Function"
   ]
  },
  {
   "cell_type": "markdown",
   "id": "fbac573d",
   "metadata": {},
   "source": [
    "Here, we choose to optimize the parameters by minimizing the negative log-likelihood. However, since the circuit is not already normalized (as we parameterized the sums using an exponential), we need to instantiate a circuit computing the partition function explicitly. That is, we integrate the circuit within the pipeline context as follows."
   ]
  },
  {
   "cell_type": "markdown",
   "id": "3e05e268-4ab0-4c65-94b6-f624329bee55",
   "metadata": {},
   "source": [
    "Note that the context will take care of the parameters being shared between the compiled circuit and its other version, which computes the partition function. Finally, we learn the parameters by minimizing the negative log-likelihood, similarly as any other model in torch."
   ]
  },
  {
   "cell_type": "code",
   "execution_count": 17,
   "id": "8eb6683d-f7c0-4b70-afd1-912a90861c9a",
   "metadata": {
    "ExecuteTime": {
     "end_time": "2024-09-02T14:57:01.875420Z",
     "start_time": "2024-09-02T14:57:01.808093Z"
    }
   },
   "outputs": [],
   "source": [
    "# Move circuits to device\n",
    "circuit = circuit.to(device)"
   ]
  },
  {
   "cell_type": "code",
   "execution_count": 18,
   "id": "2f28e9c0",
   "metadata": {
    "ExecuteTime": {
     "end_time": "2024-09-02T14:59:08.671005Z",
     "start_time": "2024-09-02T14:58:01.775167Z"
    }
   },
   "outputs": [
    {
     "name": "stdout",
     "output_type": "stream",
     "text": [
      "Step 100: Average NLL: 2280.969\n",
      "Step 200: Average NLL: 986.987\n",
      "Step 300: Average NLL: 853.279\n",
      "Step 400: Average NLL: 810.274\n",
      "Step 500: Average NLL: 786.922\n",
      "Step 600: Average NLL: 775.374\n",
      "Step 700: Average NLL: 762.651\n",
      "Step 800: Average NLL: 755.496\n",
      "Step 900: Average NLL: 752.950\n",
      "Step 1000: Average NLL: 747.931\n",
      "Step 1100: Average NLL: 742.527\n",
      "Step 1200: Average NLL: 741.037\n",
      "Step 1300: Average NLL: 737.108\n",
      "Step 1400: Average NLL: 734.801\n",
      "Step 1500: Average NLL: 732.476\n",
      "Step 1600: Average NLL: 729.733\n",
      "Step 1700: Average NLL: 730.325\n",
      "Step 1800: Average NLL: 727.293\n",
      "Step 1900: Average NLL: 724.657\n",
      "Step 2000: Average NLL: 724.793\n",
      "Step 2100: Average NLL: 724.067\n",
      "Step 2200: Average NLL: 722.248\n",
      "Step 2300: Average NLL: 721.935\n"
     ]
    }
   ],
   "source": [
    "num_epochs = 10\n",
    "step_idx = 0\n",
    "running_loss = 0.0\n",
    "for epoch_idx in range(num_epochs):\n",
    "    for i, (batch, _) in enumerate(train_dataloader):\n",
    "        batch = batch.to(device).unsqueeze(dim=1)   # Add a channel dimension\n",
    "        log_output = circuit(batch)                 # Compute the log output of the circuit\n",
    "        lls = log_output                   # Compute the log-likelihood\n",
    "        loss = -torch.mean(lls)   # The loss is the negative average log-likelihood\n",
    "        loss.backward()\n",
    "        optimizer.step()\n",
    "        optimizer.zero_grad()\n",
    "        running_loss += loss.detach() * len(batch)\n",
    "        step_idx += 1\n",
    "        if step_idx % 100 == 0:\n",
    "            print(f\"Step {step_idx}: Average NLL: {running_loss / (100 * len(batch)):.3f}\")\n",
    "            running_loss = 0.0"
   ]
  },
  {
   "cell_type": "markdown",
   "id": "50efae6b",
   "metadata": {},
   "source": [
    "We then evaluate our model on test data by computing the average log-likelihood and bits per dimension."
   ]
  },
  {
   "cell_type": "code",
   "execution_count": 19,
   "id": "fc335f725d9f18d4",
   "metadata": {
    "ExecuteTime": {
     "end_time": "2024-09-02T14:59:19.406526Z",
     "start_time": "2024-09-02T14:59:18.735934Z"
    }
   },
   "outputs": [
    {
     "name": "stdout",
     "output_type": "stream",
     "text": [
      "Average test LL: -720.177\n",
      "Bits per dimension: 1.3252500705063175\n"
     ]
    }
   ],
   "source": [
    "circuit.eval()\n",
    "\n",
    "with torch.no_grad():\n",
    "    test_lls = 0.0\n",
    "    for batch, _ in test_dataloader:\n",
    "        batch = batch.to(device).unsqueeze(dim=1)   # Add a channel dimension\n",
    "        log_output = circuit(batch)                 # Compute the log output of the circuit\n",
    "        lls = log_output                   # Compute the log-likelihood\n",
    "        test_lls += lls.sum().item()\n",
    "    average_ll = test_lls / len(data_test)\n",
    "    bpd = -average_ll / (num_variables * np.log(2.0))\n",
    "    print(f\"Average test LL: {average_ll:.3f}\")\n",
    "    print(f\"Bits per dimension: {bpd}\")"
   ]
  },
  {
   "cell_type": "markdown",
   "id": "9b11214b2c17f2e0",
   "metadata": {},
   "source": [
    "## Sampling from the Circuit\n",
    "\n",
    "To visualise the generative capabilities of the circuit, we can sample from it and plot the results. Note that the sampling operation returns samples from the leaves *and* samples from the corresponding mixtures."
   ]
  },
  {
   "cell_type": "code",
   "execution_count": 20,
   "id": "2bc2244ab3fc34ca",
   "metadata": {
    "ExecuteTime": {
     "end_time": "2024-09-02T14:59:29.568488Z",
     "start_time": "2024-09-02T14:59:29.412364Z"
    }
   },
   "outputs": [
    {
     "data": {
      "image/png": "[encoded data removed]",
      "text/plain": [
       "<Figure size 500x100 with 5 Axes>"
      ]
     },
     "metadata": {},
     "output_type": "display_data"
    }
   ],
   "source": [
    "import einops as E\n",
    "\n",
    "from cirkit.backend.torch.queries import SamplingQuery\n",
    "\n",
    "query = SamplingQuery(circuit)\n",
    "samples = query(num_samples=5)\n",
    "\n",
    "leaf_samples = samples[0]\n",
    "mixtures_samples = samples[1]\n",
    "\n",
    "leaf_samples = leaf_samples[:, 0, :] # Remove the channel dimension\n",
    "samples = E.rearrange(leaf_samples, \"n (h w) -> n h w\", h=28, w=28)\n",
    "samples = samples.cpu().numpy()\n",
    "\n",
    "plt.figure(figsize=(5, 1))\n",
    "for i in range(5):\n",
    "    plt.subplot(1, 5, i + 1)\n",
    "    plt.imshow(samples[i], cmap=\"gray\")\n",
    "    plt.axis(\"off\")\n",
    "plt.show()"
   ]
  }
 ],
 "metadata": {
  "kernelspec": {
   "display_name": "Python 3 (ipykernel)",
   "language": "python",
   "name": "python3"
  },
  "language_info": {
   "codemirror_mode": {
    "name": "ipython",
    "version": 3
   },
   "file_extension": ".py",
   "mimetype": "text/x-python",
   "name": "python",
   "nbconvert_exporter": "python",
   "pygments_lexer": "ipython3",
   "version": "3.10.12"
  }
 },
 "nbformat": 4,
 "nbformat_minor": 5
}
