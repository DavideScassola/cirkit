{
 "cells": [
  {
   "cell_type": "code",
   "id": "initial_id",
   "metadata": {
    "collapsed": true,
    "ExecuteTime": {
     "end_time": "2024-07-18T12:38:25.573326Z",
     "start_time": "2024-07-18T12:38:25.495935Z"
    }
   },
   "source": [
    "import random\n",
    "import numpy as np"
   ],
   "outputs": [],
   "execution_count": 1
  },
  {
   "metadata": {
    "ExecuteTime": {
     "end_time": "2024-07-18T12:38:25.578589Z",
     "start_time": "2024-07-18T12:38:25.574753Z"
    }
   },
   "cell_type": "code",
   "source": [
    "random.seed(42)\n",
    "np.random.seed(42)"
   ],
   "id": "681277d408d33fae",
   "outputs": [],
   "execution_count": 2
  },
  {
   "metadata": {
    "ExecuteTime": {
     "end_time": "2024-07-18T12:38:25.618913Z",
     "start_time": "2024-07-18T12:38:25.579691Z"
    }
   },
   "cell_type": "code",
   "source": [
    "from cirkit.utils.scope import Scope\n",
    "from cirkit.symbolic.parameters import LogSoftmaxParameter, ExpParameter, Parameter\n",
    "from cirkit.symbolic.layers import CategoricalLayer, MixingLayer, HadamardLayer\n",
    "from cirkit.symbolic.initializers import NormalInitializer\n",
    "from cirkit.symbolic.circuit import Circuit"
   ],
   "id": "eea8e699b52e454f",
   "outputs": [],
   "execution_count": 3
  },
  {
   "metadata": {
    "ExecuteTime": {
     "end_time": "2024-07-18T12:38:25.624488Z",
     "start_time": "2024-07-18T12:38:25.620646Z"
    }
   },
   "cell_type": "code",
   "source": [
    "def categorical_layer_factory(\n",
    "    scope: Scope,\n",
    "    num_units: int,\n",
    "    num_channels: int,\n",
    "    num_categories: int\n",
    ") -> CategoricalLayer:\n",
    "    return CategoricalLayer(\n",
    "        scope, num_units, num_channels, num_categories=num_categories,\n",
    "        parameterization=lambda p: Parameter.from_unary(p, LogSoftmaxParameter(p.shape)),\n",
    "        initializer=NormalInitializer(0.0, 1e-2)\n",
    "    )\n",
    "\n",
    "def mixing_layer_factory(\n",
    "    scope: Scope, num_units: int, arity: int\n",
    ") -> MixingLayer:\n",
    "    return MixingLayer(\n",
    "        scope, num_units, arity,\n",
    "        parameterization=lambda p: Parameter.from_unary(p, ExpParameter(p.shape)),\n",
    "        initializer=NormalInitializer(0.0, 1e-1)\n",
    "    )\n",
    "\n",
    "def hadamard_layer_factory(scope: Scope, num_input_units: int, arity: int) -> HadamardLayer:\n",
    "    return HadamardLayer(scope, num_input_units, arity)"
   ],
   "id": "49554fa60f8a0b24",
   "outputs": [],
   "execution_count": 4
  },
  {
   "metadata": {
    "ExecuteTime": {
     "end_time": "2024-07-18T12:38:25.645253Z",
     "start_time": "2024-07-18T12:38:25.625283Z"
    }
   },
   "cell_type": "code",
   "source": [
    "n_variables = 13\n",
    "n_channels = 3\n",
    "n_categories = 17\n",
    "n_components = 11\n",
    "\n",
    "layers = [\n",
    "    categorical_layer_factory(range(n_variables // 2), 1, n_channels, n_categories)\n",
    "    for _ in range(n_components)\n",
    "]\n",
    "layers.extend(\n",
    "    [\n",
    "        categorical_layer_factory(range(n_variables // 2, n_variables), 1, n_channels, n_categories)\n",
    "        for _ in range(n_components)\n",
    "    ]\n",
    ")\n",
    "layers.append(mixing_layer_factory(range(n_variables // 2), 1, n_components))\n",
    "layers.append(mixing_layer_factory(range(n_variables // 2, n_variables), 1, n_components))\n",
    "layers.append(hadamard_layer_factory(range(n_variables), 2, n_components))\n",
    "\n",
    "in_layers = dict()\n",
    "in_layers[layers[-3]] = layers[:n_components]\n",
    "in_layers[layers[-2]] = layers[n_components : 2 * n_components]\n",
    "in_layers[layers[-1]] = layers[-3:-1]\n",
    "\n",
    "out_layers = dict()\n",
    "for i in range(n_components):\n",
    "    out_layers[layers[i]] = [layers[-3]]\n",
    "    out_layers[layers[i + n_components]] = [layers[-2]]\n",
    "out_layers[layers[-3]] = [layers[-1]]\n",
    "out_layers[layers[-2]] = [layers[-1]]\n",
    "\n",
    "circuit = Circuit(\n",
    "    scope=range(n_variables),\n",
    "    num_channels=n_channels,\n",
    "    layers=layers,\n",
    "    in_layers=in_layers,\n",
    "    out_layers=out_layers,\n",
    "    topologically_ordered=True\n",
    ")"
   ],
   "id": "a7795e2565d01108",
   "outputs": [],
   "execution_count": 5
  },
  {
   "metadata": {
    "ExecuteTime": {
     "end_time": "2024-07-18T12:38:26.600119Z",
     "start_time": "2024-07-18T12:38:25.646317Z"
    }
   },
   "cell_type": "code",
   "source": [
    "import torch\n",
    "device = torch.device('cuda')  # The device to use\n",
    "torch.manual_seed(42)\n",
    "if 'cuda' in device.type:\n",
    "    torch.cuda.manual_seed(42)\n",
    "    \n",
    "from cirkit.pipeline import PipelineContext"
   ],
   "id": "c8a1a2f08dba7835",
   "outputs": [],
   "execution_count": 6
  },
  {
   "metadata": {},
   "cell_type": "markdown",
   "source": "Start testing with unfolded circuits, implementation will be more intuitive and has to be there anyway.",
   "id": "1ca4070a63df9622"
  },
  {
   "metadata": {
    "ExecuteTime": {
     "end_time": "2024-07-18T12:38:26.613440Z",
     "start_time": "2024-07-18T12:38:26.601105Z"
    }
   },
   "cell_type": "code",
   "source": [
    "ctx = PipelineContext(\n",
    "    backend='torch',\n",
    "    fold=False,\n",
    "    semiring='lse-sum'\n",
    ")\n",
    "circuit = ctx.compile(circuit)"
   ],
   "id": "b756ba6757b8a774",
   "outputs": [],
   "execution_count": 7
  },
  {
   "metadata": {
    "ExecuteTime": {
     "end_time": "2024-07-18T12:38:26.621334Z",
     "start_time": "2024-07-18T12:38:26.614953Z"
    }
   },
   "cell_type": "code",
   "source": "print(len(list(circuit.layers)))",
   "id": "4a13b3b2f4c998a4",
   "outputs": [
    {
     "name": "stdout",
     "output_type": "stream",
     "text": [
      "25\n"
     ]
    }
   ],
   "execution_count": 8
  },
  {
   "metadata": {
    "ExecuteTime": {
     "end_time": "2024-07-18T12:38:26.636174Z",
     "start_time": "2024-07-18T12:38:26.622134Z"
    }
   },
   "cell_type": "code",
   "source": "print(circuit)",
   "id": "38a5c56f0849678f",
   "outputs": [
    {
     "name": "stdout",
     "output_type": "stream",
     "text": [
      "TorchCircuit(\n",
      "  (_nodes): ModuleList(\n",
      "    (0-21): 22 x TorchCategoricalLayer(\n",
      "      (logits): TorchParameter(\n",
      "        (_nodes): ModuleList(\n",
      "          (0): TorchTensorParameter()\n",
      "          (1): TorchLogSoftmaxParameter()\n",
      "        )\n",
      "      )\n",
      "    )\n",
      "    (22-23): 2 x TorchMixingLayer(\n",
      "      (weight): TorchParameter(\n",
      "        (_nodes): ModuleList(\n",
      "          (0): TorchTensorParameter()\n",
      "          (1): TorchExpParameter()\n",
      "        )\n",
      "      )\n",
      "    )\n",
      "    (24): TorchHadamardLayer()\n",
      "  )\n",
      ")\n"
     ]
    }
   ],
   "execution_count": 9
  },
  {
   "metadata": {
    "ExecuteTime": {
     "end_time": "2024-07-18T12:38:26.717305Z",
     "start_time": "2024-07-18T12:38:26.637911Z"
    }
   },
   "cell_type": "code",
   "source": [
    "samples = circuit.sample_forward(100)\n",
    "\n",
    "print(samples.shape)\n",
    "\n",
    "log_samples = circuit(samples)\n",
    "\n",
    "print(log_samples.shape)"
   ],
   "id": "ddabc55b58056509",
   "outputs": [
    {
     "name": "stdout",
     "output_type": "stream",
     "text": [
      "torch.Size([100, 3, 13])\n",
      "torch.Size([1, 100])\n"
     ]
    }
   ],
   "execution_count": 10
  },
  {
   "metadata": {
    "ExecuteTime": {
     "end_time": "2024-07-18T12:38:26.720427Z",
     "start_time": "2024-07-18T12:38:26.718766Z"
    }
   },
   "cell_type": "code",
   "source": "",
   "id": "afa9fe43b52d8a4",
   "outputs": [],
   "execution_count": 10
  }
 ],
 "metadata": {
  "kernelspec": {
   "display_name": "Python 3",
   "language": "python",
   "name": "python3"
  },
  "language_info": {
   "codemirror_mode": {
    "name": "ipython",
    "version": 2
   },
   "file_extension": ".py",
   "mimetype": "text/x-python",
   "name": "python",
   "nbconvert_exporter": "python",
   "pygments_lexer": "ipython2",
   "version": "2.7.6"
  }
 },
 "nbformat": 4,
 "nbformat_minor": 5
}
